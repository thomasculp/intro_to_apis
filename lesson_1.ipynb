{
 "cells": [
  {
   "cell_type": "markdown",
   "metadata": {},
   "source": [
    "# Hello World!\n",
    "## Audition Lesson 1 (Thomas Culp)\n",
    "Welcome to your first Python program! There's a lot to take in at once if we're being methodical about our treatment, but let's start with something exciting."
   ]
  },
  {
   "cell_type": "code",
   "execution_count": null,
   "metadata": {},
   "outputs": [],
   "source": [
    "print('Hello World!')"
   ]
  },
  {
   "cell_type": "markdown",
   "metadata": {},
   "source": [
    "---\n",
    "To use an API, we have a few options. One is to make a Python package like the `requests` package we are about to `import`. A Python package/module is just code somebody else has written and packaged up so we can use it within the context of our own programs.\n",
    "\n",
    "The way we will access our APIs in this tutorial makes direct use of HTTP. However, `requests` abstracts away a lot of the typing and formalism so we can just focus on code."
   ]
  },
  {
   "cell_type": "code",
   "execution_count": null,
   "metadata": {},
   "outputs": [],
   "source": [
    "import requests"
   ]
  },
  {
   "cell_type": "markdown",
   "metadata": {},
   "source": [
    "Compare this request with our HTTP from the slides:\n",
    "\n",
    "`GET https://aws.random.cat/meow`\n",
    "\n",
    "In Python, objects like `requests` have *attributes*. We can access these attributes using the dot `.`. The attribute we are using here is called `get`."
   ]
  },
  {
   "cell_type": "code",
   "execution_count": null,
   "metadata": {},
   "outputs": [],
   "source": [
    "response = requests.get('https://aws.random.cat/meow')"
   ]
  },
  {
   "cell_type": "markdown",
   "metadata": {},
   "source": [
    "We call `requests.get` with an API's endpoint. This returns an object which we store in the variable `response`. Let's investigate what is inside `response`."
   ]
  },
  {
   "cell_type": "code",
   "execution_count": null,
   "metadata": {},
   "outputs": [],
   "source": [
    "response.status_code"
   ]
  },
  {
   "cell_type": "markdown",
   "metadata": {},
   "source": [
    "Here, we see that, just like `requests`, `response` has attributes that we can access using `.`. One of them is `status_code`, where we can determine the API call's response status. This corresponds to\n",
    "\n",
    "`200 OK`\n",
    "\n",
    "in the slides describing the API call."
   ]
  },
  {
   "cell_type": "markdown",
   "metadata": {},
   "source": [
    "Finally, we want to look at the JSON returned. Can you guess what attribute of `response` we would want to look at?"
   ]
  },
  {
   "cell_type": "code",
   "execution_count": null,
   "metadata": {},
   "outputs": [],
   "source": [
    "response.json()"
   ]
  },
  {
   "cell_type": "markdown",
   "metadata": {},
   "source": [
    "The JSON response is kept in a Python *dictionary*, which is an important type of data in the programming language.\n",
    "\n",
    "Note that `response.status_code` isn't followed by parentheses while `response.json()` is. When we called `requests.get('https://aws.random.cat/meow')`, we were passing an endpoint to `get`. It turns out, we can actually pass certain things to `response.json()` as well, but we don't want to at this point. These things are called *methods* or *functions*--they do things with data we give them. `response.status_code` is not a method or function; it's just an attribute which, in our case, stores the number `200`.\n",
    "\n",
    "---\n",
    "\n",
    "## Bonus Material\n",
    "\n",
    "`response.json()` returns a dictionary. Dictionaries are sets of *keys* which correspond to *values*. When we lookup a key in a dictionary, we are returned its value."
   ]
  },
  {
   "cell_type": "code",
   "execution_count": null,
   "metadata": {},
   "outputs": [],
   "source": [
    "# first storing the json response in this new variable\n",
    "response_json = response.json()"
   ]
  },
  {
   "cell_type": "code",
   "execution_count": null,
   "metadata": {},
   "outputs": [],
   "source": [
    "# taking a look at the keys in this dictionary\n",
    "response_json.keys()"
   ]
  },
  {
   "cell_type": "code",
   "execution_count": null,
   "metadata": {},
   "outputs": [],
   "source": [
    "# taking a look at the values in this dictionary\n",
    "response_json.values()"
   ]
  },
  {
   "cell_type": "code",
   "execution_count": null,
   "metadata": {},
   "outputs": [],
   "source": [
    "# Here's one way to access a value using a key\n",
    "response_json['file']"
   ]
  },
  {
   "cell_type": "code",
   "execution_count": null,
   "metadata": {},
   "outputs": [],
   "source": [
    "# If we try to lookup a key which isn't present using this method, we get an error\n",
    "response_json['pizza']"
   ]
  },
  {
   "cell_type": "code",
   "execution_count": null,
   "metadata": {},
   "outputs": [],
   "source": [
    "# To avoid an error, we can use the `get` method of our dictionary.\n",
    "# Printing the result, since `None` gets suppressed by the notebook (see what happens without the print!).\n",
    "print(response_json.get('pizza'))"
   ]
  },
  {
   "cell_type": "code",
   "execution_count": null,
   "metadata": {},
   "outputs": [],
   "source": []
  }
 ],
 "metadata": {
  "kernelspec": {
   "display_name": "Python 3.6.9 64-bit ('ds-proj': venv)",
   "language": "python",
   "name": "python36964bitdsprojvenv471d2940312e4e559630007f3bd90d83"
  },
  "language_info": {
   "codemirror_mode": {
    "name": "ipython",
    "version": 3
   },
   "file_extension": ".py",
   "mimetype": "text/x-python",
   "name": "python",
   "nbconvert_exporter": "python",
   "pygments_lexer": "ipython3",
   "version": "3.6.9"
  }
 },
 "nbformat": 4,
 "nbformat_minor": 4
}
